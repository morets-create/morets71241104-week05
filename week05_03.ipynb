{
  "nbformat": 4,
  "nbformat_minor": 0,
  "metadata": {
    "colab": {
      "provenance": []
    },
    "kernelspec": {
      "name": "python3",
      "display_name": "Python 3"
    },
    "language_info": {
      "name": "python"
    }
  },
  "cells": [
    {
      "cell_type": "code",
      "execution_count": 3,
      "metadata": {
        "colab": {
          "base_uri": "https://localhost:8080/"
        },
        "id": "DxLz4d_JYPh1",
        "outputId": "8fe28c6c-1945-4e66-96a8-6b89ee970614"
      },
      "outputs": [
        {
          "output_type": "stream",
          "name": "stdout",
          "text": [
            "212\n",
            "64\n",
            "32\n"
          ]
        }
      ],
      "source": [
        "CtoF = lambda c : (9/5) * c + 32\n",
        "CtoR = lambda c : 0.8 * c\n",
        "\n",
        "print(int(CtoF(100)))\n",
        "print(int(CtoR(80)))\n",
        "print(int(CtoF(0)))"
      ]
    }
  ]
}