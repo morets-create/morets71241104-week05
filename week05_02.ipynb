{
  "nbformat": 4,
  "nbformat_minor": 0,
  "metadata": {
    "colab": {
      "provenance": []
    },
    "kernelspec": {
      "name": "python3",
      "display_name": "Python 3"
    },
    "language_info": {
      "name": "python"
    }
  },
  "cells": [
    {
      "cell_type": "code",
      "execution_count": 4,
      "metadata": {
        "colab": {
          "base_uri": "https://localhost:8080/"
        },
        "id": "X_6I_5w5RBst",
        "outputId": "e1cfe3f2-6c7e-442f-e50d-4adeca8810ef"
      },
      "outputs": [
        {
          "output_type": "stream",
          "name": "stdout",
          "text": [
            "True\n",
            "True\n",
            "False\n",
            "True\n",
            "False\n"
          ]
        }
      ],
      "source": [
        "def cek_digit_belakang(a1,a2,a3):\n",
        "  if a1 % 10 == a2 % 10 or a1 % 10 == a3 % 10 or a2 % 10 == a3 % 10:\n",
        "    return True\n",
        "  else:\n",
        "    return False\n",
        "\n",
        "print(cek_digit_belakang(30,20,18))\n",
        "print(cek_digit_belakang(145,5,100))\n",
        "print(cek_digit_belakang(71,187,18))\n",
        "print(cek_digit_belakang(1024,14,94))\n",
        "print(cek_digit_belakang(53,8900,658))"
      ]
    }
  ]
}