{
  "nbformat": 4,
  "nbformat_minor": 0,
  "metadata": {
    "colab": {
      "provenance": []
    },
    "kernelspec": {
      "name": "python3",
      "display_name": "Python 3"
    },
    "language_info": {
      "name": "python"
    }
  },
  "cells": [
    {
      "cell_type": "code",
      "execution_count": 6,
      "metadata": {
        "colab": {
          "base_uri": "https://localhost:8080/"
        },
        "id": "ebpQrc5uOLi9",
        "outputId": "10749f1d-ff9a-43a1-de1a-2c5b83ce94ad"
      },
      "outputs": [
        {
          "output_type": "stream",
          "name": "stdout",
          "text": [
            "True\n",
            "True\n",
            "True\n",
            "False\n",
            "False\n"
          ]
        }
      ],
      "source": [
        "def cek_angka(angka_1,angka_2,angka_3):\n",
        "  if angka_1 != angka_2 != angka_3:\n",
        "    if  angka_1 +  angka_2 == angka_3 or angka_2 + angka_3 ==  angka_1 or  angka_1 + angka_3 == angka_2:\n",
        "      return True\n",
        "    else:\n",
        "      return False\n",
        "  else:\n",
        "    return False\n",
        "\n",
        "print(cek_angka(3, 5, 8))\n",
        "print(cek_angka(2, 4, 6))\n",
        "print(cek_angka(1, 2, 3))\n",
        "print(cek_angka(1, 1, 2))\n",
        "print(cek_angka(5, 10, 20))\n"
      ]
    }
  ]
}